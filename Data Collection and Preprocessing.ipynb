{
 "cells": [
  {
   "cell_type": "markdown",
   "metadata": {},
   "source": [
    "# QCTO - Workplace Module\n",
    "\n",
    "### Project Title: Analyzing Medical Malpractice Claims: Identifying Trends and Risk Factors\n",
    "#### Done By: Motshabi Mohola\n",
    "\n",
    "© ExploreAI 2024\n",
    "\n",
    "---\n",
    "\n",
    "## Table of Contents\n",
    "\n",
    "<a href=#BC> Background Context</a>\n",
    "\n",
    "<a href=#one>1. Importing Packages</a>\n",
    "\n",
    "<a href=#two>2. Data Collection and Description</a>\n",
    "\n",
    "<a href=#three>3. Loading Data </a>\n",
    "\n",
    "<a href=#four>4. Data Cleaning and Filtering</a>\n",
    "\n",
    "<a href=#five>5. Exploratory Data Analysis (EDA)</a>\n",
    "\n",
    "<a href=#six>6. Modeling </a>\n",
    "\n",
    "<a href=#seven>7. Evaluation and Validation</a>\n",
    "\n",
    "<a href=#eight>8. Final Model</a>\n",
    "\n",
    "<a href=#nine>9. Conclusion and Future Work</a>\n",
    "\n",
    "<a href=#ten>10. References</a>"
   ]
  },
  {
   "cell_type": "markdown",
   "metadata": {},
   "source": [
    "---\n",
    " <a id=\"BC\"></a>\n",
    "## **Background Context**\n",
    "<a href=#cont>Back to Table of Contents</a>\n",
    "\n",
    "* **Purpose:** The purpose of this project is to analyze a comprehensive dataset of medical malpractice claims to identify trends, risk factors, and correlations between various variables. The goal is to provide insights that can help reduce the frequency and severity of medical malpractice claims, ultimately contributing to improved patient outcomes and reduced healthcare costs.\n",
    "\n",
    "* **Details:** \n",
    "    \n",
    "    - Background and Significance:\n",
    "\n",
    "Medical malpractice claims are a significant concern in the healthcare industry, resulting in substantial financial costs and emotional distress for patients, families, and healthcare providers. According to recent studies, the annual cost of medical malpractice in the United States is estimated to be $55.6 billion, accounting for 2.4% of annual healthcare spending. Furthermore, a staggering 7.4% of physicians licensed in the US face malpractice claims each year.\n",
    "\n",
    "    - Research Questions:\n",
    "\n",
    "This project aims to address the following research questions:\n",
    "\n",
    "1. What are the most common specialties and procedures associated with medical malpractice claims?\n",
    "2. Are there any correlations between claim severity, patient age, and physician specialty?\n",
    "3. Do patients represented by private attorneys tend to receive higher claim payments?\n",
    "4. Are there any differences in claim outcomes based on patient demographics, such as gender and marital status?\n",
    "\n",
    "\n",
    "By exploring these questions and analyzing the dataset, this project seeks to provide valuable insights that can inform healthcare policy, medical practice, and patient safety initiatives.\n",
    "\n",
    "---"
   ]
  },
  {
   "cell_type": "markdown",
   "metadata": {},
   "source": [
    "---\n",
    "<a href=#one></a>\n",
    "## **Importing Packages**\n",
    "<a href=#cont>Back to Table of Contents</a>\n",
    "\n",
    "* **Purpose:** \n",
    "* **Details:** List and import all the Python packages that will be used throughout the project such as Pandas for data manipulation, Matplotlib/Seaborn for visualization, scikit-learn for modeling, etc.\n",
    "---"
   ]
  },
  {
   "cell_type": "code",
   "execution_count": 184,
   "metadata": {},
   "outputs": [],
   "source": [
    "import pandas as pd #loading the dataset\n",
    "import matplotlib.pyplot as plt #ploting graphs\n",
    "import seaborn as sns\n",
    "import numpy as np #mathematical calculations\n",
    "from sklearn.preprocessing import StandardScaler #standadization\n",
    "from sklearn.model_selection import train_test_split #spliting the data"
   ]
  },
  {
   "cell_type": "markdown",
   "metadata": {},
   "source": [
    "---\n",
    "<a href=#two></a>\n",
    "## **Data Collection and Description**\n",
    "<a href=#cont>Back to Table of Contents</a>\n",
    "\n",
    "* **Purpose:** Describe how the data was collected and provide an overview of its characteristics.\n",
    "* **Details:** Mention sources of the data, the methods used for collection (e.g., APIs, web scraping, datasets from repositories), and a general description of the dataset including size, scope, and types of data available (e.g., numerical, categorical).\n",
    "---"
   ]
  },
  {
   "cell_type": "markdown",
   "metadata": {},
   "source": [
    "**Purpose**\n",
    "The purpose of this dataset is to provide a comprehensive collection of medical malpractice claims.\n",
    "\n",
    "**Sources**\n",
    "The data was downloaded from Kaggle, a popular platform for data science competitions and hosting datasets.\n",
    "Link [https://www.kaggle.com/datasets/gabrielsantello/medical-malpractice-insurance-dataset?resource=download]\n",
    "\n",
    "**Dataset Description**\n",
    "The dataset contains 79,210 records of medical malpractice claims.\n",
    "\n",
    "**Size and Scope**\n",
    "The dataset includes claims from various sources, with a focus on medical malpractice cases.\n",
    "\n",
    "Types of Data\n",
    "The dataset contains a mix of numerical and categorical.\n",
    "- Amount: Numerical\n",
    "- Severity: Numerical (ordinal, 1 = emotional trauma, 9 = death, it's represented as numerical values)\n",
    "- Age: Numerical\n",
    "- Private Attorney: its represented as integer (will be later fixed) but its Categorical (binary, 1 (Yes) and 0 (No))\n",
    "- Marital Status: its represented as integer (will later be fixed) but its Categorical (ordinal, 2 ( likely \"Married\") and 1 (likely \"Single\"))\n",
    "- Specialty: object\n",
    "- Insurance: object\n",
    "- Gender: object\n",
    "    \n",
    "The dataset includes the following variables:\n",
    "\n",
    "- claim_id: Unique identifier for each claim\n",
    "- specialty: Specialty of the physician\n",
    "- state: State where the claim was filed\n",
    "- year: Year the claim was filed\n",
    "- claim_amount: Amount of the claim\n",
    "- severity: Severity of the injury\n",
    "- outcome: Outcome of the claim\n"
   ]
  },
  {
   "cell_type": "markdown",
   "metadata": {},
   "source": [
    "---\n",
    "<a href=#three></a>\n",
    "## **Loading Data**\n",
    "<a href=#cont>Back to Table of Contents</a>\n",
    "\n",
    "* **Purpose:** Load the data into the notebook for manipulation and analysis.\n",
    "* **Details:** Show the code used to load the data and display the first few rows to give a sense of what the raw data looks like.\n",
    "---"
   ]
  },
  {
   "cell_type": "code",
   "execution_count": 120,
   "metadata": {},
   "outputs": [
    {
     "name": "stdout",
     "output_type": "stream",
     "text": [
      "   Amount  Severity  Age  Private Attorney  Marital Status        Specialty  \\\n",
      "0   57041         7   62                 1               2  Family Practice   \n",
      "1  324976         6   38                 1               2            OBGYN   \n",
      "2  135383         4   34                 1               2       Cardiology   \n",
      "3  829742         7   42                 1               1       Pediatrics   \n",
      "4  197675         3   60                 0               2            OBGYN   \n",
      "\n",
      "           Insurance  Gender  \n",
      "0            Private    Male  \n",
      "1       No Insurance  Female  \n",
      "2            Unknown    Male  \n",
      "3       No Insurance  Female  \n",
      "4  Medicare/Medicaid  Female  \n"
     ]
    }
   ],
   "source": [
    "#load the dataset\n",
    "df = pd.read_csv('medicalmalpractice.csv')\n",
    "#display the first few rows\n",
    "print(df.head())\n"
   ]
  },
  {
   "cell_type": "code",
   "execution_count": 126,
   "metadata": {},
   "outputs": [
    {
     "name": "stdout",
     "output_type": "stream",
     "text": [
      "<class 'pandas.core.frame.DataFrame'>\n",
      "RangeIndex: 79210 entries, 0 to 79209\n",
      "Data columns (total 8 columns):\n",
      " #   Column            Non-Null Count  Dtype \n",
      "---  ------            --------------  ----- \n",
      " 0   Amount            79210 non-null  int64 \n",
      " 1   Severity          79210 non-null  int64 \n",
      " 2   Age               79210 non-null  int64 \n",
      " 3   Private Attorney  79210 non-null  int64 \n",
      " 4   Marital Status    79210 non-null  int64 \n",
      " 5   Specialty         79210 non-null  object\n",
      " 6   Insurance         79210 non-null  object\n",
      " 7   Gender            79210 non-null  object\n",
      "dtypes: int64(5), object(3)\n",
      "memory usage: 4.8+ MB\n"
     ]
    }
   ],
   "source": [
    "# concise summary of the dataframe\n",
    "df.info()"
   ]
  },
  {
   "cell_type": "code",
   "execution_count": 128,
   "metadata": {},
   "outputs": [
    {
     "name": "stdout",
     "output_type": "stream",
     "text": [
      "              Amount      Severity           Age  Private Attorney  \\\n",
      "count   79210.000000  79210.000000  79210.000000      79210.000000   \n",
      "mean   157484.554816      4.799659     42.701868          0.660889   \n",
      "std    193135.093293      2.083439     19.811063          0.473411   \n",
      "min      1576.000000      1.000000      0.000000          0.000000   \n",
      "25%     43670.250000      3.000000     28.000000          0.000000   \n",
      "50%     98131.000000      4.000000     43.000000          1.000000   \n",
      "75%    154675.250000      7.000000     58.000000          1.000000   \n",
      "max    926411.000000      9.000000     87.000000          1.000000   \n",
      "\n",
      "       Marital Status  \n",
      "count    79210.000000  \n",
      "mean         1.889559  \n",
      "std          1.002502  \n",
      "min          0.000000  \n",
      "25%          1.000000  \n",
      "50%          2.000000  \n",
      "75%          2.000000  \n",
      "max          4.000000  \n"
     ]
    }
   ],
   "source": [
    "# descriptive statistics for numeric columns\n",
    "print(df.describe())"
   ]
  },
  {
   "cell_type": "markdown",
   "metadata": {},
   "source": [
    "---\n",
    "<a href=#four></a>\n",
    "## **Data Cleaning and Filtering**\n",
    "<a href=#cont>Back to Table of Contents</a>\n",
    "\n",
    "* **Purpose:** Prepare the data for analysis by cleaning and filtering.\n",
    "* **Details:** Include steps for handling missing values, removing outliers, correcting errors, and possibly reducing the data (filtering based on certain criteria or features).\n",
    "---"
   ]
  },
  {
   "cell_type": "code",
   "execution_count": 130,
   "metadata": {},
   "outputs": [
    {
     "data": {
      "text/plain": [
       "Amount              0\n",
       "Severity            0\n",
       "Age                 0\n",
       "Private Attorney    0\n",
       "Marital Status      0\n",
       "Specialty           0\n",
       "Insurance           0\n",
       "Gender              0\n",
       "dtype: int64"
      ]
     },
     "execution_count": 130,
     "metadata": {},
     "output_type": "execute_result"
    }
   ],
   "source": [
    "# check for missing values\n",
    "df.isnull().sum()"
   ]
  },
  {
   "cell_type": "code",
   "execution_count": 132,
   "metadata": {},
   "outputs": [
    {
     "data": {
      "text/plain": [
       "{'Amount': 10540,\n",
       " 'Severity': 0,\n",
       " 'Age': 0,\n",
       " 'Private Attorney': 0,\n",
       " 'Marital Status': 10362}"
      ]
     },
     "execution_count": 132,
     "metadata": {},
     "output_type": "execute_result"
    }
   ],
   "source": [
    "# Function to detect outliers using IQR\n",
    "def detect_outliers_iqr(data, column):\n",
    "    Q1 = data[column].quantile(0.25)\n",
    "    Q3 = data[column].quantile(0.75)\n",
    "    IQR = Q3 - Q1\n",
    "    lower_bound = Q1 - 1.5 * IQR\n",
    "    upper_bound = Q3 + 1.5 * IQR\n",
    "    outliers = data[(data[column] < lower_bound) | (data[column] > upper_bound)]\n",
    "    return outliers\n",
    "\n",
    "# Identify outliers for each numerical column\n",
    "outlier_counts = {}\n",
    "numerical_columns = [\"Amount\", \"Severity\", \"Age\", \"Private Attorney\" , \"Marital Status\"]\n",
    "\n",
    "for col in numerical_columns:\n",
    "    outliers = detect_outliers_iqr(df, col)\n",
    "    outlier_counts[col] = len(outliers)\n",
    "\n",
    "outlier_counts"
   ]
  },
  {
   "cell_type": "code",
   "execution_count": 134,
   "metadata": {},
   "outputs": [
    {
     "data": {
      "image/png": "[encoded data removed]",
      "text/plain": [
       "<Figure size 1000x500 with 1 Axes>"
      ]
     },
     "metadata": {},
     "output_type": "display_data"
    }
   ],
   "source": [
    "# Plot distribution of \"Amount\" column\n",
    "plt.figure(figsize=(10,5))\n",
    "sns.histplot(df[\"Amount\"], bins=100, kde=True)\n",
    "plt.title(\"Distribution of Amount Column (Before Handling Outliers)\")\n",
    "plt.xlabel(\"Amount\")\n",
    "plt.ylabel(\"Frequency\")\n",
    "plt.yscale(\"log\")  # Log scale to better visualize skewed data\n",
    "plt.show()"
   ]
  },
  {
   "cell_type": "code",
   "execution_count": 136,
   "metadata": {},
   "outputs": [
    {
     "name": "stdout",
     "output_type": "stream",
     "text": [
      "847620.55\n"
     ]
    }
   ],
   "source": [
    "# finding the 99th percentile value in the Amount column\n",
    "percentile_99 = df[\"Amount\"].quantile(0.99)\n",
    "print(percentile_99)"
   ]
  },
  {
   "cell_type": "code",
   "execution_count": 138,
   "metadata": {},
   "outputs": [
    {
     "name": "stdout",
     "output_type": "stream",
     "text": [
      "36698    926411\n",
      "12406    926359\n",
      "14461    926014\n",
      "49558    925964\n",
      "35823    925802\n",
      "34590    925722\n",
      "70166    925700\n",
      "50464    925639\n",
      "7154     925509\n",
      "21906    925430\n",
      "Name: Amount, dtype: int64\n"
     ]
    }
   ],
   "source": [
    "# check the highest values to check for outliers in the Amount Column\n",
    "print(df[\"Amount\"].nlargest(10))"
   ]
  },
  {
   "cell_type": "markdown",
   "metadata": {},
   "source": [
    "The 99th percentile is 847 620.55, meaning the highest 1% of cases have payouts above this value. The top 10 highest values are all above 925 000, with some reaching 926 411. These values are not drastically different from the 99th percentile, so they might be legitimate high claims rather than data errors. I want to keep meaningful data therefore I will set all values above 847 620 to 847 620 to reduce extreme skewness while keeping major variations preventing large claims from distorting the analysis."
   ]
  },
  {
   "cell_type": "code",
   "execution_count": 140,
   "metadata": {},
   "outputs": [],
   "source": [
    "# cap at 99th percentile\n",
    "df[\"Amount_Capped\"] = df[\"Amount\"].clip(upper=847620.55)"
   ]
  },
  {
   "cell_type": "code",
   "execution_count": 142,
   "metadata": {},
   "outputs": [
    {
     "name": "stdout",
     "output_type": "stream",
     "text": [
      "Marital Status\n",
      "2    41220\n",
      "1    22802\n",
      "4    10362\n",
      "0     3832\n",
      "3      994\n",
      "Name: count, dtype: int64\n"
     ]
    }
   ],
   "source": [
    "# Check unique values and counts of Marital Status\n",
    "print(df[\"Marital Status\"].value_counts())"
   ]
  },
  {
   "cell_type": "code",
   "execution_count": 144,
   "metadata": {},
   "outputs": [
    {
     "data": {
      "image/png": "[encoded data removed]",
      "text/plain": [
       "<Figure size 800x500 with 1 Axes>"
      ]
     },
     "metadata": {},
     "output_type": "display_data"
    }
   ],
   "source": [
    "# plot the distribution\n",
    "plt.figure(figsize=(8,5))\n",
    "sns.barplot(x=df[\"Marital Status\"].value_counts().index, \n",
    "            y=df[\"Marital Status\"].value_counts().values)\n",
    "plt.xlabel(\"Marital Status\")\n",
    "plt.ylabel(\"Count\")\n",
    "plt.title(\"Distribution of Marital Status Column\")\n",
    "plt.show()"
   ]
  },
  {
   "cell_type": "markdown",
   "metadata": {},
   "source": [
    "since both Private Attorney and Marital Status are set to int, we can convert to categoral which will prevent any issues for future use.\n"
   ]
  },
  {
   "cell_type": "code",
   "execution_count": 146,
   "metadata": {},
   "outputs": [],
   "source": [
    "# Marital Status from integer to categoral\n",
    "df[\"Marital Status\"] = df[\"Marital Status\"].astype(\"category\")\n",
    "# Private Attorney from integer to categoral\n",
    "df[\"Private Attorney\"] = df[\"Private Attorney\"].astype(\"category\")\n"
   ]
  },
  {
   "cell_type": "code",
   "execution_count": 148,
   "metadata": {},
   "outputs": [
    {
     "name": "stdout",
     "output_type": "stream",
     "text": [
      "Amount                 int64\n",
      "Severity               int64\n",
      "Age                    int64\n",
      "Private Attorney    category\n",
      "Marital Status      category\n",
      "Specialty             object\n",
      "Insurance             object\n",
      "Gender                object\n",
      "Amount_Capped        float64\n",
      "dtype: object\n"
     ]
    }
   ],
   "source": [
    "# data type of each column\n",
    "print(df.dtypes)"
   ]
  },
  {
   "cell_type": "markdown",
   "metadata": {},
   "source": [
    "The values in Marital Status column are now categoral with each number representing the following: 0- single, 1-married, 2-divorced, 3-widowed, 4-separated. The values in Private Attorney are also now categoral with 1 meaning Yes and 0 meaning No."
   ]
  },
  {
   "cell_type": "code",
   "execution_count": 161,
   "metadata": {},
   "outputs": [
    {
     "name": "stdout",
     "output_type": "stream",
     "text": [
      "1\n"
     ]
    }
   ],
   "source": [
    "# Check for duplicate rows\n",
    "duplicate_count = df.duplicated().sum()\n",
    "print(duplicate_count)"
   ]
  },
  {
   "cell_type": "code",
   "execution_count": 163,
   "metadata": {},
   "outputs": [],
   "source": [
    "# Remove duplicates\n",
    "df = df.drop_duplicates()"
   ]
  },
  {
   "cell_type": "code",
   "execution_count": 165,
   "metadata": {},
   "outputs": [
    {
     "data": {
      "text/plain": [
       "(1, (79209, 9))"
      ]
     },
     "execution_count": 165,
     "metadata": {},
     "output_type": "execute_result"
    }
   ],
   "source": [
    "# Return the number of duplicates removed and the new dataset shape\n",
    "duplicate_count, df.shape"
   ]
  },
  {
   "cell_type": "code",
   "execution_count": 171,
   "metadata": {},
   "outputs": [],
   "source": [
    "# Normalize Age\n",
    "scaler = StandardScaler()\n",
    "df[\"Age_Scaled\"] = scaler.fit_transform(df[[\"Age\"]])"
   ]
  },
  {
   "cell_type": "code",
   "execution_count": null,
   "metadata": {},
   "outputs": [],
   "source": [
    "Now the data has been centered and mean = 0 and standard deviation = 1."
   ]
  },
  {
   "cell_type": "code",
   "execution_count": 175,
   "metadata": {},
   "outputs": [],
   "source": [
    "# make Severity into ordinal\n",
    "df['Severity'] = pd.Categorical(df['Severity'], categories=[1, 2, 3, 4, 5, 6, 7, 8, 9], ordered=True)"
   ]
  },
  {
   "cell_type": "markdown",
   "metadata": {},
   "source": [
    "making the \"Severity\" column ordinal, the computer now knows that:\n",
    "- These numbers aren't just random values\n",
    "- They have a specific order that matters(1 being the lowest severity and 9 being the highest severity)"
   ]
  },
  {
   "cell_type": "code",
   "execution_count": 178,
   "metadata": {},
   "outputs": [
    {
     "name": "stdout",
     "output_type": "stream",
     "text": [
      "Amount                 int64\n",
      "Severity            category\n",
      "Age                    int64\n",
      "Private Attorney    category\n",
      "Marital Status      category\n",
      "Specialty             object\n",
      "Insurance             object\n",
      "Gender                object\n",
      "Amount_Capped        float64\n",
      "Age_Scaled           float64\n",
      "dtype: object\n"
     ]
    }
   ],
   "source": [
    "# data type of each column\n",
    "print(df.dtypes)"
   ]
  },
  {
   "cell_type": "code",
   "execution_count": 206,
   "metadata": {},
   "outputs": [],
   "source": [
    "#feature extraction\n",
    "# Age Binning\n",
    "df[\"Age_Group\"] = pd.cut(df[\"Age\"], bins=[0, 30, 50, 100], labels=[\"Young\", \"Middle-aged\", \"Senior\"])"
   ]
  },
  {
   "cell_type": "markdown",
   "metadata": {},
   "source": [
    "Instead of treating age as a continuous number, grouping it into Young, Middle-aged, and Senior helps capture different risk patterns."
   ]
  },
  {
   "cell_type": "code",
   "execution_count": 209,
   "metadata": {},
   "outputs": [
    {
     "name": "stdout",
     "output_type": "stream",
     "text": [
      "       Amount Severity  Age Private Attorney Marital Status  \\\n",
      "0       57041        7   62                1              2   \n",
      "1      324976        6   38                1              2   \n",
      "2      135383        4   34                1              2   \n",
      "3      829742        7   42                1              1   \n",
      "4      197675        3   60                0              2   \n",
      "...       ...      ...  ...              ...            ...   \n",
      "79205   25305        4   64                1              2   \n",
      "79206   43098        3   87                0              4   \n",
      "79207   35398        3   81                0              4   \n",
      "79208  154228        9   19                0              4   \n",
      "79209  168298        7    4                1              1   \n",
      "\n",
      "                Specialty          Insurance  Gender  Amount_Capped  \\\n",
      "0         Family Practice            Private    Male        57041.0   \n",
      "1                   OBGYN       No Insurance  Female       324976.0   \n",
      "2              Cardiology            Unknown    Male       135383.0   \n",
      "3              Pediatrics       No Insurance  Female       829742.0   \n",
      "4                   OBGYN  Medicare/Medicaid  Female       197675.0   \n",
      "...                   ...                ...     ...            ...   \n",
      "79205     General Surgery            Unknown    Male        25305.0   \n",
      "79206  Orthopedic Surgery            Unknown    Male        43098.0   \n",
      "79207      Anesthesiology            Unknown    Male        35398.0   \n",
      "79208         Dermatology            Unknown  Female       154228.0   \n",
      "79209     Family Practice            Private  Female       168298.0   \n",
      "\n",
      "       Age_Scaled    Age_Group  \n",
      "0        0.974104       Senior  \n",
      "1       -0.237343  Middle-aged  \n",
      "2       -0.439251  Middle-aged  \n",
      "3       -0.035436  Middle-aged  \n",
      "4        0.873150       Senior  \n",
      "...           ...          ...  \n",
      "79205    1.075057       Senior  \n",
      "79206    2.236027       Senior  \n",
      "79207    1.933166       Senior  \n",
      "79208   -1.196406        Young  \n",
      "79209   -1.953560        Young  \n",
      "\n",
      "[79209 rows x 11 columns]\n"
     ]
    }
   ],
   "source": [
    "print(df)"
   ]
  },
  {
   "cell_type": "code",
   "execution_count": 204,
   "metadata": {},
   "outputs": [],
   "source": [
    "#spliting the data\n",
    "# Define the feature matrix (X) and the target variable (y)\n",
    "X = df.drop('Amount_Capped', axis=1)\n",
    "y = df['Amount_Capped']\n",
    "\n",
    "# Split the data into training(80%) and testing(20%) sets\n",
    "X_train, X_test, y_train, y_test = train_test_split(X, y, test_size=0.2, random_state=42)\n"
   ]
  },
  {
   "cell_type": "markdown",
   "metadata": {},
   "source": [
    "---\n",
    "<a href=#five></a>\n",
    "## **Exploratory Data Analysis (EDA)**\n",
    "<a href=#cont>Back to Table of Contents</a>\n",
    "\n",
    "* **Purpose:** Explore and visualize the data to uncover patterns, trends, and relationships.\n",
    "* **Details:** Use statistics and visualizations to explore the data. This may include histograms, box plots, scatter plots, and correlation matrices. Discuss any significant findings.\n",
    "---\n"
   ]
  },
  {
   "cell_type": "code",
   "execution_count": null,
   "metadata": {},
   "outputs": [],
   "source": [
    "#Please use code cells to code in and do not forget to comment your code."
   ]
  },
  {
   "cell_type": "markdown",
   "metadata": {},
   "source": [
    "---\n",
    "<a href=#six></a>\n",
    "## **Modeling**\n",
    "<a href=#cont>Back to Table of Contents</a>\n",
    "\n",
    "* **Purpose:** Develop and train predictive or statistical models.\n",
    "* **Details:** Describe the choice of models, feature selection and engineering processes, and show how the models are trained. Include code for setting up the models and explanations of the model parameters.\n",
    "---\n"
   ]
  },
  {
   "cell_type": "code",
   "execution_count": null,
   "metadata": {},
   "outputs": [],
   "source": [
    "#Please use code cells to code in and do not forget to comment your code."
   ]
  },
  {
   "cell_type": "markdown",
   "metadata": {},
   "source": [
    "---\n",
    "<a href=#seven></a>\n",
    "## **Evaluation and Validation**\n",
    "<a href=#cont>Back to Table of Contents</a>\n",
    "\n",
    "* **Purpose:** Evaluate and validate the effectiveness and accuracy of the models.\n",
    "* **Details:** Present metrics used to evaluate the models, such as accuracy, precision, recall, F1-score, etc. Discuss validation techniques employed, such as cross-validation or train/test split.\n",
    "---"
   ]
  },
  {
   "cell_type": "code",
   "execution_count": null,
   "metadata": {},
   "outputs": [],
   "source": [
    "#Please use code cells to code in and do not forget to comment your code."
   ]
  },
  {
   "cell_type": "markdown",
   "metadata": {},
   "source": [
    "---\n",
    "<a href=#eight></a>\n",
    "## **Final Model**\n",
    "<a href=#cont>Back to Table of Contents</a>\n",
    "\n",
    "* **Purpose:** Present the final model and its performance.\n",
    "* **Details:** Highlight the best-performing model and discuss its configuration, performance, and why it was chosen over others.\n",
    "---\n"
   ]
  },
  {
   "cell_type": "code",
   "execution_count": null,
   "metadata": {},
   "outputs": [],
   "source": [
    "#Please use code cells to code in and do not forget to comment your code."
   ]
  },
  {
   "cell_type": "markdown",
   "metadata": {},
   "source": [
    "---\n",
    "<a href=#nine></a>\n",
    "## **Conclusion and Future Work**\n",
    "<a href=#cont>Back to Table of Contents</a>\n",
    "\n",
    "* **Purpose:** Summarize the findings and discuss future directions.\n",
    "* **Details:** Conclude with a summary of the results, insights gained, limitations of the study, and suggestions for future projects or improvements in methodology or data collection.\n",
    "---\n"
   ]
  },
  {
   "cell_type": "code",
   "execution_count": null,
   "metadata": {},
   "outputs": [],
   "source": [
    "#Please use code cells to code in and do not forget to comment your code."
   ]
  },
  {
   "cell_type": "markdown",
   "metadata": {},
   "source": [
    "---\n",
    "<a href=#ten></a>\n",
    "## **References**\n",
    "<a href=#cont>Back to Table of Contents</a>\n",
    "\n",
    "* **Purpose:** Provide citations and sources of external content.\n",
    "* **Details:** List all the references and sources consulted during the project, including data sources, research papers, and documentation for tools and libraries used.\n",
    "---"
   ]
  },
  {
   "cell_type": "markdown",
   "metadata": {},
   "source": [
    "Kaggle : http://kaggle.com/datasets/gabrielsantello/medical-malpractice-insurance-dataset?resource=download"
   ]
  },
  {
   "cell_type": "markdown",
   "metadata": {},
   "source": [
    "## Additional Sections to Consider\n",
    "\n",
    "* ### Appendix: \n",
    "For any additional code, detailed tables, or extended data visualizations that are supplementary to the main content.\n",
    "\n",
    "* ### Contributors: \n",
    "Mohola Motshabi Hope\n"
   ]
  }
 ],
 "metadata": {
  "kernelspec": {
   "display_name": "Python 3 (ipykernel)",
   "language": "python",
   "name": "python3"
  },
  "language_info": {
   "codemirror_mode": {
    "name": "ipython",
    "version": 3
   },
   "file_extension": ".py",
   "mimetype": "text/x-python",
   "name": "python",
   "nbconvert_exporter": "python",
   "pygments_lexer": "ipython3",
   "version": "3.12.4"
  }
 },
 "nbformat": 4,
 "nbformat_minor": 4
}
